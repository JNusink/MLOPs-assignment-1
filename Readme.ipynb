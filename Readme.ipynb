{
 "cells": [
  {
   "cell_type": "markdown",
   "id": "2fd7c358",
   "metadata": {},
   "source": [
    "Movie Review Sentiment Analyzer\n",
    "\n",
    "This is a Streamlit web application that performs sentiment analysis on movie reviews using a Naive Bayes classifier trained on the IMDB dataset."
   ]
  },
  {
   "cell_type": "markdown",
   "id": "a8f6e78c",
   "metadata": {},
   "source": [
    "How to Run Locally\n",
    "\n",
    "\n",
    "\n",
    "\n",
    "\n",
    "Clone the repository:"
   ]
  },
  {
   "cell_type": "code",
   "execution_count": null,
   "id": "d73b24e5",
   "metadata": {},
   "outputs": [],
   "source": [
    "git clone <https://github.com/JNusink/MLOPs-assignment-1>\n",
    "cd <repository-folder>"
   ]
  },
  {
   "cell_type": "markdown",
   "id": "325087c8",
   "metadata": {},
   "source": [
    "Install dependencies:"
   ]
  },
  {
   "cell_type": "code",
   "execution_count": null,
   "id": "fe393878",
   "metadata": {},
   "outputs": [],
   "source": [
    "pip install -r requirements.txt"
   ]
  },
  {
   "cell_type": "markdown",
   "id": "d77fcfd7",
   "metadata": {},
   "source": [
    "Download the IMDB Dataset.csv from Kaggle and place it in the project folder.\n",
    "\n",
    "\n",
    "\n",
    "Run the training script (only once):"
   ]
  },
  {
   "cell_type": "code",
   "execution_count": null,
   "id": "41eb7d50",
   "metadata": {},
   "outputs": [],
   "source": [
    "python train_model.py"
   ]
  },
  {
   "cell_type": "markdown",
   "id": "7a3a8bf3",
   "metadata": {},
   "source": [
    "Start the Streamlit app:"
   ]
  },
  {
   "cell_type": "code",
   "execution_count": null,
   "id": "f55a018f",
   "metadata": {},
   "outputs": [],
   "source": [
    "streamlit run app.py"
   ]
  },
  {
   "cell_type": "markdown",
   "id": "15d233b4",
   "metadata": {},
   "source": [
    "Open your browser and navigate to http://localhost:8501 to use the app."
   ]
  }
 ],
 "metadata": {
  "language_info": {
   "name": "python"
  }
 },
 "nbformat": 4,
 "nbformat_minor": 5
}
