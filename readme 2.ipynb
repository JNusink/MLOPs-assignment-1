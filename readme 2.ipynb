{
 "cells": [
  {
   "cell_type": "markdown",
   "id": "863200e7",
   "metadata": {},
   "source": [
    "# Movie Review Sentiment Analyzer\n",
    "\n",
    "This is a Streamlit web application that analyzes the sentiment of movie reviews and predicts whether they are positive or negative, along with confidence scores.\n",
    "\n",
    "## Features\n",
    "- Input a movie review and get an instant sentiment prediction.\n",
    "- Displays confidence percentages for both positive and negative sentiments.\n",
    "- Uses a pre-trained machine learning model (`model.pkl`).\n",
    "\n",
    "## Prerequisites\n",
    "- Docker\n",
    "- Python 3.9+\n",
    "\n",
    "## Installation\n",
    "1. Clone the repository:\n",
    "   ```bash\n",
    "   git clone https://github.com/JNusink/MLOps-assignment-1.git\n",
    "   cd MLOps-assignment-1"
   ]
  }
 ],
 "metadata": {
  "language_info": {
   "name": "python"
  }
 },
 "nbformat": 4,
 "nbformat_minor": 5
}
